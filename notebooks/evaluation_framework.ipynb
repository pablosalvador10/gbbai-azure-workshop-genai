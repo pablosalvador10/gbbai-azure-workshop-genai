{
 "cells": [
  {
   "cell_type": "markdown",
   "metadata": {},
   "source": [
    "## TODO Intro"
   ]
  },
  {
   "cell_type": "markdown",
   "metadata": {},
   "source": [
    "#### Part 0: Setup"
   ]
  },
  {
   "cell_type": "code",
   "execution_count": null,
   "metadata": {},
   "outputs": [],
   "source": [
    "# import required libraries\n",
    "from azure.identity import DefaultAzureCredential, InteractiveBrowserCredential\n",
    "\n",
    "from azure.ai.ml import MLClient, load_component, Input\n",
    "from azure.ai.ml.constants import AssetTypes\n",
    "from azure.ai.ml.dsl import pipeline\n",
    "from promptflow import PFClient"
   ]
  },
  {
   "cell_type": "code",
   "execution_count": 5,
   "metadata": {},
   "outputs": [
    {
     "name": "stdout",
     "output_type": "stream",
     "text": [
      "victor-aml\n",
      "https://victor-aoai.openai.azure.com/\n"
     ]
    }
   ],
   "source": [
    "# Load environment variables from .env file\n",
    "import os\n",
    "from dotenv import load_dotenv, find_dotenv\n",
    "\n",
    "load_dotenv(find_dotenv(), override=True)\n",
    "print(os.getenv(\"WORKSPACE_NAME\"))\n",
    "print(os.getenv(\"AZURE_OPENAI_ENDPOINT\"))"
   ]
  },
  {
   "cell_type": "code",
   "execution_count": 9,
   "metadata": {},
   "outputs": [
    {
     "name": "stdout",
     "output_type": "stream",
     "text": [
      "{\n",
      "    \"name\": \"aoai-connection\",\n",
      "    \"module\": \"promptflow.connections\",\n",
      "    \"created_date\": \"2023-12-11T13:24:51.137301\",\n",
      "    \"last_modified_date\": \"2024-03-13T13:59:44.268921\",\n",
      "    \"type\": \"azure_open_ai\",\n",
      "    \"api_key\": \"******\",\n",
      "    \"api_base\": \"https://victor-aoai.openai.azure.com/\",\n",
      "    \"api_type\": \"azure\",\n",
      "    \"api_version\": \"2023-07-01-preview\",\n",
      "    \"auth_mode\": \"key\"\n",
      "}\n",
      "\n"
     ]
    }
   ],
   "source": [
    "import subprocess\n",
    "\n",
    "api_key = os.getenv(\"AZURE_OPENAI_KEY\")\n",
    "api_base = os.getenv(\"AZURE_OPENAI_ENDPOINT\")\n",
    "name = \"aoai-connection\"\n",
    "\n",
    "command = f\"pf connection create --file ../src/promptflow/connections/connect_aoai.yaml --set api_key={api_key} api_base={api_base} --name {name}\"\n",
    "result = subprocess.run(command,\n",
    "                        shell=True,\n",
    "                        check=True,\n",
    "                        text=True,\n",
    "                        capture_output=True\n",
    "                        )\n",
    "\n",
    "print(result.stdout)"
   ]
  },
  {
   "cell_type": "markdown",
   "metadata": {},
   "source": [
    "#### Part 1: Run Evaluation Flows (to Test)"
   ]
  },
  {
   "cell_type": "code",
   "execution_count": null,
   "metadata": {},
   "outputs": [],
   "source": [
    "# PFClient can help manage your runs and connections.\n",
    "pf = PFClient()\n",
    "\n",
    "# Define Flows and Data\n",
    "grey_customer_flow = \"../src/promptflow/evaluation_flows/gpt_eval\" # set flow directory\n",
    "data = \"../data/inputs/simple_chat_sample_inputs.csv\" # set the data file\n",
    "\n",
    "# Run evaluation flows  to evaluate chat results\n",
    "grey_customer = pf.run(\n",
    "    flow=grey_customer_flow,\n",
    "    data=data,\n",
    "    stream=False,\n",
    "    column_mapping={  # map the url field from the data to the url input of the flow\n",
    "      \"question\": \"${data.input}\",\n",
    "      \"response\": \"${run.outputs.output}\",\n",
    "    }\n",
    ")\n",
    "\n",
    "# TODO: Show outputs"
   ]
  },
  {
   "cell_type": "code",
   "execution_count": null,
   "metadata": {},
   "outputs": [],
   "source": [
    "# TODO: Add other eval flows"
   ]
  },
  {
   "cell_type": "markdown",
   "metadata": {},
   "source": [
    "#### Part 2: Load Flows as Components to be used in Pipeline Job"
   ]
  },
  {
   "cell_type": "code",
   "execution_count": null,
   "metadata": {},
   "outputs": [],
   "source": [
    "# flow_component = load_component(\"../../flows/standard/web-classification/flow.dag.yaml\")"
   ]
  },
  {
   "cell_type": "markdown",
   "metadata": {},
   "source": [
    "#### Part 3: Create Pipeline and Deploy as Batch Endpoint"
   ]
  },
  {
   "cell_type": "markdown",
   "metadata": {},
   "source": [
    "#### Part 4: Invoke Batch Endpoint"
   ]
  },
  {
   "cell_type": "markdown",
   "metadata": {},
   "source": []
  }
 ],
 "metadata": {
  "kernelspec": {
   "display_name": "ai_wkshp",
   "language": "python",
   "name": "python3"
  },
  "language_info": {
   "codemirror_mode": {
    "name": "ipython",
    "version": 3
   },
   "file_extension": ".py",
   "mimetype": "text/x-python",
   "name": "python",
   "nbconvert_exporter": "python",
   "pygments_lexer": "ipython3",
   "version": "3.9.18"
  }
 },
 "nbformat": 4,
 "nbformat_minor": 2
}
